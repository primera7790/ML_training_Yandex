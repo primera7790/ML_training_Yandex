{
  "cells": [
    {
      "cell_type": "markdown",
      "metadata": {
        "id": "-2pjXks_0tmd"
      },
      "source": [
        "## Задача №4: Степенной метод"
      ]
    },
    {
      "cell_type": "markdown",
      "metadata": {
        "id": "WPYirA190tmg"
      },
      "source": [
        "Ваша задача – реализовать степенной метод вычисления собственных значений и собственных векторов и протестировать его на синтетических данных. Подробности можно найти на [Википедии](https://ru.wikipedia.org/wiki/Степенной_метод).\n",
        "\n",
        "Пожалуйста, обратите внимание, что предложенный метод должен быть применим также для вычисления наименьшего собственного значения (по абсолютной величине).\n",
        "\n",
        "На всякий случай, для собственного значения $\\lambda$ и собственного вектора $\\boldsymbol{x}$ матрицы $\\mathbf{A}$ справедливо следующее уравнение:\n",
        "$$\n",
        "\\mathbf{A}\\boldsymbol{x} = \\lambda \\boldsymbol{x}\n",
        "$$"
      ]
    },
    {
      "cell_type": "code",
      "execution_count": 185,
      "metadata": {
        "ExecuteTime": {
          "end_time": "2020-02-11T07:08:51.904850Z",
          "start_time": "2020-02-11T07:08:50.413258Z"
        },
        "id": "4pqgXdtr0tmh"
      },
      "outputs": [],
      "source": [
        "import numpy as np"
      ]
    },
    {
      "cell_type": "code",
      "execution_count": 186,
      "metadata": {
        "id": "wQoKT7RFThFW"
      },
      "outputs": [],
      "source": [
        "def get_dominant_eigenvalue_and_eigenvector(data, num_steps):\n",
        "    \"\"\"\n",
        "    data: np.ndarray – symmetric diagonalizable real-valued matrix\n",
        "    num_steps: int – number of power method steps\n",
        "\n",
        "    Returns:\n",
        "    eigenvalue: float – dominant eigenvalue estimation after `num_steps` steps\n",
        "    eigenvector: np.ndarray – corresponding eigenvector estimation\n",
        "    \"\"\"\n",
        "    ### YOUR CODE HERE\n",
        "\n",
        "    random_vector = np.random.randn(data.shape[0])\n",
        "    eigenvector = random_vector\n",
        "    new_eigenvector = random_vector\n",
        "    eigenvalue = 0\n",
        "\n",
        "    for i in range(num_steps):\n",
        "      eigenvector = new_eigenvector\n",
        "\n",
        "      if eigenvector[0] < 0:\n",
        "        eigenvector *= -1\n",
        "\n",
        "      eigenvalue = eigenvector.T.dot(data.dot(eigenvector)) / eigenvector.T.dot(eigenvector)\n",
        "\n",
        "      ax = data.dot(eigenvector)\n",
        "      new_eigenvector = ax / np.linalg.norm(ax)\n",
        "\n",
        "    return float(eigenvalue), eigenvector"
      ]
    },
    {
      "cell_type": "markdown",
      "metadata": {
        "id": "w-LGeuACThFW"
      },
      "source": [
        "Для вашего удобства реализовано несколько тестов ниже. В качестве корректного примера используется функция из numpy."
      ]
    },
    {
      "cell_type": "code",
      "execution_count": 187,
      "metadata": {
        "id": "DX2YsFXNThFX"
      },
      "outputs": [],
      "source": [
        "def get_eigenvalues_and_eigenvectors_with_numpy(data):\n",
        "    _eigenvalues, _eigenvectors = np.linalg.eig(data)\n",
        "    max_index = np.argmax(np.abs(_eigenvalues))\n",
        "    min_index = np.argmin(np.abs(_eigenvalues))\n",
        "\n",
        "    _test_pair_a = np.array([_eigenvalues[max_index], _eigenvalues[min_index]])\n",
        "    _test_pair_b = np.array([_eigenvectors[:, max_index], _eigenvectors[:, min_index]])\n",
        "    if _test_pair_b[0][0] < 0:\n",
        "        _test_pair_b[0] *= -1\n",
        "    if _test_pair_b[1][0] < 0:\n",
        "        _test_pair_b[1] *= -1\n",
        "\n",
        "    return _test_pair_a, _test_pair_b"
      ]
    },
    {
      "cell_type": "code",
      "execution_count": 188,
      "metadata": {
        "colab": {
          "base_uri": "https://localhost:8080/"
        },
        "id": "GM67i65LThFX",
        "outputId": "a4fa1143-0cb7-4b07-b7d9-1b510e8be47f"
      },
      "outputs": [
        {
          "output_type": "stream",
          "name": "stdout",
          "text": [
            "Seems fine! Copy function `get_dominant_eigenvalue_and_eigenvector` to the .py file and submit your solution to the contest!\n"
          ]
        }
      ],
      "source": [
        "for _ in range(1000):\n",
        "    size = np.random.choice(np.arange(2, 5))\n",
        "    data = np.random.randn(size, size)\n",
        "    data = data.T.dot(data)\n",
        "    a0, b0 = get_dominant_eigenvalue_and_eigenvector(data, 1000)\n",
        "    assert (\n",
        "        type(a0) == float\n",
        "    ), \"Return type for eigenvalue is not Python float (please, note, numpy.float64 is a different type)\"\n",
        "    assert type(b0) == np.ndarray, \"Return type for eigenvector is not np.ndarray\"\n",
        "\n",
        "    a1, b1 = get_dominant_eigenvalue_and_eigenvector(np.linalg.inv(data), 1000)\n",
        "    a1 = 1 / a1\n",
        "\n",
        "    if b0[0] < 0:\n",
        "        b0 *= -1\n",
        "    if b1[0] < 0:\n",
        "        b1 *= -1\n",
        "\n",
        "    assert np.allclose(\n",
        "        data.dot(b0), a0 * b0, atol=1e-3\n",
        "    ), f\"Ax != \\lambda x for the dominant eigenvalue check the solution!\\n{data.dot(b0), a0 * b0}\"\n",
        "    assert np.allclose(\n",
        "        data.dot(b1), a1 * b1, atol=1e-3\n",
        "    ), f\"Ax != \\lambda x for the smallest eigenvalue check the solution!\\n{data.dot(b1), a1 * b1}\"\n",
        "\n",
        "    _test_pair_a, _test_pair_b = get_eigenvalues_and_eigenvectors_with_numpy(data)\n",
        "\n",
        "    assert np.allclose(\n",
        "        _test_pair_a, np.array([a0, a1]), atol=1e-3\n",
        "    ), f\"Eigenvalues are different from np.linalg.eig!\\n{_test_pair_a, np.array([a0, a1])}\"\n",
        "    assert np.allclose(\n",
        "        _test_pair_b, np.array([b0, b1]), atol=1e-3\n",
        "    ), f\"Eigenvectors are different from np.linalg.eig!\\n{_test_pair_b, np.array([b0, b1])}\"\n",
        "\n",
        "print(\n",
        "    \"Seems fine! Copy function `get_dominant_eigenvalue_and_eigenvector` to the .py file and submit your solution to the contest!\"\n",
        ")"
      ]
    }
  ],
  "metadata": {
    "colab": {
      "provenance": []
    },
    "kernelspec": {
      "display_name": "Py3 Research",
      "language": "python",
      "name": "py3_research_kernel"
    },
    "language_info": {
      "codemirror_mode": {
        "name": "ipython",
        "version": 3
      },
      "file_extension": ".py",
      "mimetype": "text/x-python",
      "name": "python",
      "nbconvert_exporter": "python",
      "pygments_lexer": "ipython3",
      "version": "3.9.7"
    }
  },
  "nbformat": 4,
  "nbformat_minor": 0
}